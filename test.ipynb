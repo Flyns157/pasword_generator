{
 "cells": [
  {
   "cell_type": "code",
   "execution_count": 79,
   "metadata": {},
   "outputs": [],
   "source": [
    "import random"
   ]
  },
  {
   "cell_type": "code",
   "execution_count": 80,
   "metadata": {},
   "outputs": [],
   "source": [
    "def generate_password(size : int = 16, letters : bool = True, uppercase : bool = True, numbers : bool = True, specials : bool = True)-> str :\n",
    "    \"\"\"\n",
    "    Génère un mot de passe aléatoire.\n",
    "\n",
    "    Args:\n",
    "        size (int, optional): La longueur du mot de passe. Par défaut à 16.\n",
    "        letters (bool, optional): Si vrai, inclut des lettres minuscules. Par défaut à True.\n",
    "        uppercase (bool, optional): Si vrai, inclut des lettres majuscules. Par défaut à True.\n",
    "        numbers (bool, optional): Si vrai, inclut des chiffres. Par défaut à True.\n",
    "        specials (bool, optional): Si vrai, inclut des caractères spéciaux. Par défaut à True.\n",
    "\n",
    "    Returns:\n",
    "        str: Le mot de passe généré.\n",
    "    \"\"\"\n",
    "    global_data = ['0123456789','abcdefghijklmnopqrstuvwxyz','ABCDEFGHIJKLMNOPQRSTUVWXYZ','''\"«»‹›“”„'‘’‚…!¡?¿()[]{}¨´`^ˆ~˜¸#*,.:;·•¯‾-–—_|¦‌‍†‡§¶©®™&@/\\◊♠♣♥♦←↑→↓↔áÁâÂàÀåÅãÃäÄæÆçÇéÉêÊèÈëËíÍîÎìÌïÏñÑóÓôÔòÒøØõÕöÖœŒšŠßðÐþÞúÚûÛùÙüÜýÝÿŸ¤€$¢£¥ƒαΑβΒγΓδΔεΕζΖηΗθΘιΙκΚλΛμΜνΝξΞοΟπΠρΡσςΣτΤυΥφΦχΧψΨωΩ°µ<>≤≥=≈≠≡±−+×÷⁄%‰¼½¾¹²³ºªƒ′″∂∏∑√∞¬∩∫''']\n",
    "    concerned_data = [global_data[n] for n,ok in [(1,letters), (2,uppercase), (0,numbers), (3,specials)] if ok]\n",
    "    tmp_password = ''\n",
    "    N = len(concerned_data)\n",
    "    for _ in range(size) :\n",
    "        tmp = random.randint(0, N-1)\n",
    "        tmp_password += concerned_data[tmp][int(random.random()*len(concerned_data[tmp]))]\n",
    "    return tmp_password\n"
   ]
  },
  {
   "cell_type": "code",
   "execution_count": 173,
   "metadata": {},
   "outputs": [
    {
     "name": "stdout",
     "output_type": "stream",
     "text": [
      "80 : ↓*y9eΣB¾8qWMFΛRt2KªAû4Ku32Δ!ÝAΕwΩIsûHwÔ52K2pH≥RÙ5T[HSCqE^ª0XΔ”Ö.la8BP1oTA9d4e5md\n"
     ]
    }
   ],
   "source": [
    "tmp = generate_password(80,letters=True,uppercase=True,numbers=True,specials=True)\n",
    "print(f'{len(tmp)} : {tmp}')"
   ]
  }
 ],
 "metadata": {
  "kernelspec": {
   "display_name": "Python 3",
   "language": "python",
   "name": "python3"
  },
  "language_info": {
   "codemirror_mode": {
    "name": "ipython",
    "version": 3
   },
   "file_extension": ".py",
   "mimetype": "text/x-python",
   "name": "python",
   "nbconvert_exporter": "python",
   "pygments_lexer": "ipython3",
   "version": "3.12.0"
  }
 },
 "nbformat": 4,
 "nbformat_minor": 2
}
